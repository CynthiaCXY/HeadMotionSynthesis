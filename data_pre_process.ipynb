{
 "cells": [
  {
   "cell_type": "markdown",
   "metadata": {},
   "source": [
    "# Pre-process raw data into .npz files"
   ]
  },
  {
   "cell_type": "code",
   "execution_count": 1,
   "metadata": {
    "collapsed": true
   },
   "outputs": [],
   "source": [
    "from __future__ import division, print_function # Makes division and printing work like python 3 (we're using 2)\n",
    "import os\n",
    "import numpy as np\n",
    "import pandas as pd\n",
    "from matplotlib import pyplot as plt\n",
    "import seaborn as sns\n",
    "from scipy.spatial import distance\n",
    "import csv\n",
    "%matplotlib inline\n",
    "from numpy import arange, sin, pi, cos\n",
    "from scipy.fftpack import fft, dct"
   ]
  },
  {
   "cell_type": "markdown",
   "metadata": {},
   "source": [
    "### Load pre-trained GloVe data (Twitter 25d) into a dictionary"
   ]
  },
  {
   "cell_type": "code",
   "execution_count": 2,
   "metadata": {},
   "outputs": [],
   "source": [
    "check_words = np.loadtxt(\"GloVeTwitter27B/25d.txt\", usecols=range(0, 1), dtype = 'string')\n",
    "\n",
    "check_vectors = np.loadtxt(\"GloVeTwitter27B/25d.txt\", usecols=range(1, 26), dtype = \"float\")"
   ]
  },
  {
   "cell_type": "code",
   "execution_count": 5,
   "metadata": {
    "collapsed": true
   },
   "outputs": [],
   "source": [
    "check_table = {}\n",
    "for i in range(check_words.size):\n",
    "    check_table[check_words[i]] = check_vectors[i]"
   ]
  },
  {
   "cell_type": "markdown",
   "metadata": {},
   "source": [
    "### Load recorded raw word transcriptions + head motion data"
   ]
  },
  {
   "cell_type": "code",
   "execution_count": 9,
   "metadata": {},
   "outputs": [],
   "source": [
    "motion_data = np.loadtxt(\"RawMotionData/Adam_06_n.rov\", skiprows=16, usecols=range(0, 6))\n",
    "time_intervals = np.loadtxt(\"RawWordTables/Adam_06_n\", usecols=range(4, 6), dtype=\"int\")\n",
    "words = np.loadtxt(\"RawWordTables/Adam_06_n\", usecols=range(3, 4), dtype=\"string\")"
   ]
  },
  {
   "cell_type": "code",
   "execution_count": 10,
   "metadata": {
    "collapsed": true
   },
   "outputs": [],
   "source": [
    "for index, word in enumerate(words):\n",
    "    words[index] = word.lower()"
   ]
  },
  {
   "cell_type": "code",
   "execution_count": 76,
   "metadata": {},
   "outputs": [],
   "source": [
    "inputs = []\n",
    "outputs = []\n",
    "\n",
    "for index, word in enumerate(words):\n",
    "    start_time = time_intervals[index][0]\n",
    "    end_time = time_intervals[index][1]\n",
    "    \n",
    "    for t in range(start_time, end_time):\n",
    "        outputs.append(motion_data[t])\n",
    "    \n",
    "    if word in check_table:\n",
    "        for t in range(start_time, end_time):\n",
    "            inputs.append(check_table[word])\n",
    "    else:\n",
    "        #print(word)\n",
    "        word_split = word.split('\\'')\n",
    "        if len(word_split) <= 1:\n",
    "            for t in range(start_time, end_time):\n",
    "                # treat unknown words as 0 vectors\n",
    "                inputs.append(np.zeros(check_vectors.shape[1]))\n",
    "        else:\n",
    "            word_split[1] = '\\'' + word_split[1]\n",
    "            mid = int((start_time + end_time) / 2)\n",
    "            if word_split[0] in check_table:\n",
    "                for t in range(start_time, mid):\n",
    "                    inputs.append(check_table[word_split[0]])\n",
    "                if word_split[1] in check_table:\n",
    "                    for t in range(mid, end_time):\n",
    "                        inputs.append(check_table[word_split[1]])\n",
    "                else:\n",
    "                    for t in range(mid, end_time):\n",
    "                        inputs.append(np.zeros(check_vectors.shape[1]))\n",
    "            else:\n",
    "                for t in range(start_time, mid):\n",
    "                    inputs.append(np.zeros(check_vectors.shape[1]))\n",
    "                if word_split[1] in check_table:\n",
    "                    for t in range(mid, end_time):\n",
    "                        inputs.append(check_table[word_split[1]])\n",
    "                else:\n",
    "                    for t in range(mid, end_time):\n",
    "                        inputs.append(np.zeros(check_vectors.shape[1]))"
   ]
  },
  {
   "cell_type": "code",
   "execution_count": 82,
   "metadata": {},
   "outputs": [],
   "source": [
    "inputs_array = np.array(inputs)\n",
    "outputs_array = np.array(outputs)"
   ]
  },
  {
   "cell_type": "code",
   "execution_count": 88,
   "metadata": {},
   "outputs": [],
   "source": [
    "np.savez('data/train.npz', inputs=inputs_array, targets=outputs_array)"
   ]
  },
  {
   "cell_type": "code",
   "execution_count": 91,
   "metadata": {},
   "outputs": [
    {
     "data": {
      "text/plain": [
       "(12235, 6)"
      ]
     },
     "execution_count": 91,
     "metadata": {},
     "output_type": "execute_result"
    }
   ],
   "source": [
    "trail_d = np.load('data/train.npz')\n",
    "trail_d['targets'].shape"
   ]
  }
 ],
 "metadata": {
  "anaconda-cloud": {},
  "kernelspec": {
   "display_name": "Python 2",
   "language": "python",
   "name": "python2"
  },
  "language_info": {
   "codemirror_mode": {
    "name": "ipython",
    "version": 2
   },
   "file_extension": ".py",
   "mimetype": "text/x-python",
   "name": "python",
   "nbconvert_exporter": "python",
   "pygments_lexer": "ipython2",
   "version": "2.7.13"
  }
 },
 "nbformat": 4,
 "nbformat_minor": 1
}
