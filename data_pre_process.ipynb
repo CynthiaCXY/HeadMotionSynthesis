{
 "cells": [
  {
   "cell_type": "markdown",
   "metadata": {},
   "source": [
    "# Pre-process raw data into .npz files"
   ]
  },
  {
   "cell_type": "code",
   "execution_count": 1,
   "metadata": {
    "collapsed": true
   },
   "outputs": [],
   "source": [
    "from __future__ import division, print_function # Makes division and printing work like python 3 (we're using 2)\n",
    "import os\n",
    "import numpy as np\n",
    "import pandas as pd\n",
    "from matplotlib import pyplot as plt\n",
    "import seaborn as sns\n",
    "from scipy.spatial import distance\n",
    "import csv\n",
    "%matplotlib inline\n",
    "from numpy import arange, sin, pi, cos\n",
    "from scipy.fftpack import fft, dct"
   ]
  },
  {
   "cell_type": "markdown",
   "metadata": {},
   "source": [
    "### Load pre-trained GloVe data (Twitter 100d) into a dictionary"
   ]
  },
  {
   "cell_type": "code",
   "execution_count": 2,
   "metadata": {
    "collapsed": true
   },
   "outputs": [],
   "source": [
    "twitter_words = np.loadtxt(\"GloVeTwitter27B/100d.txt\", usecols=range(0, 1), dtype = \"string\")\n",
    "\n",
    "twitter_vectors = np.loadtxt(\"GloVeTwitter27B/100d.txt\", usecols=range(1, 101), dtype = \"float\")\n",
    "\n",
    "twitter_table = {}\n",
    "for i in range(twitter_words.size):\n",
    "    twitter_table[twitter_words[i]] = twitter_vectors[i]"
   ]
  },
  {
   "cell_type": "code",
   "execution_count": 3,
   "metadata": {},
   "outputs": [
    {
     "data": {
      "text/plain": [
       "100"
      ]
     },
     "execution_count": 3,
     "metadata": {},
     "output_type": "execute_result"
    }
   ],
   "source": [
    "vector_dim = twitter_vectors.shape[1]\n",
    "vector_dim"
   ]
  },
  {
   "cell_type": "markdown",
   "metadata": {},
   "source": [
    "### Load pre-trained GloVe data (Wiki&Gigaword 100d) into a dictionary"
   ]
  },
  {
   "cell_type": "code",
   "execution_count": null,
   "metadata": {
    "collapsed": true
   },
   "outputs": [],
   "source": [
    "# wiki_words = np.loadtxt(\"GloVeWiki6B/100d.txt\", usecols=range(0, 1), dtype = \"string\")\n",
    "\n",
    "# wiki_vectors = np.loadtxt(\"GloVeWiki6B/100d.txt\", converters = {(1,101): lambda s: float(s.strip() or 0)}, \n",
    "#                           usecols=range(1, 101), dtype = \"float\")\n",
    "\n",
    "# wiki_table = {}\n",
    "# print(wiki_words.size)\n",
    "# for i in range(wiki_words.size):\n",
    "#     wiki_table[wiki_words[i]] = wiki_vectors[i]"
   ]
  },
  {
   "cell_type": "markdown",
   "metadata": {},
   "source": [
    "### Load recorded raw word transcriptions + head motion data"
   ]
  },
  {
   "cell_type": "code",
   "execution_count": 5,
   "metadata": {
    "collapsed": true
   },
   "outputs": [],
   "source": [
    "def pre_process_data(inputs, targets, words, motion_data, time_intervals, check_table):\n",
    "\n",
    "    for index, word in enumerate(words):\n",
    "        start_time = time_intervals[index][0]\n",
    "        end_time = time_intervals[index][1]\n",
    "\n",
    "        for t in range(start_time, end_time):\n",
    "            targets.append(motion_data[t])\n",
    "\n",
    "        if word in check_table:\n",
    "            for t in range(start_time, end_time):\n",
    "                inputs.append(check_table[word])\n",
    "        else:\n",
    "            #print(word)\n",
    "            word_split = word.split('\\'')\n",
    "            if len(word_split) <= 1:\n",
    "                for t in range(start_time, end_time):\n",
    "                    # treat unknown words as 0 vectors\n",
    "                    inputs.append(np.zeros(vector_dim))\n",
    "            else:\n",
    "                word_split[1] = '\\'' + word_split[1]\n",
    "                mid = int((start_time + end_time) / 2)\n",
    "                if word_split[0] in check_table:\n",
    "                    for t in range(start_time, mid):\n",
    "                        inputs.append(check_table[word_split[0]])\n",
    "                    if word_split[1] in check_table:\n",
    "                        for t in range(mid, end_time):\n",
    "                            inputs.append(check_table[word_split[1]])\n",
    "                    else:\n",
    "                        for t in range(mid, end_time):\n",
    "                            inputs.append(np.zeros(vector_dim))\n",
    "                else:\n",
    "                    for t in range(start_time, mid):\n",
    "                        inputs.append(np.zeros(vector_dim))\n",
    "                    if word_split[1] in check_table:\n",
    "                        for t in range(mid, end_time):\n",
    "                            inputs.append(check_table[word_split[1]])\n",
    "                    else:\n",
    "                        for t in range(mid, end_time):\n",
    "                            inputs.append(np.zeros(vector_dim))"
   ]
  },
  {
   "cell_type": "code",
   "execution_count": 14,
   "metadata": {
    "collapsed": true
   },
   "outputs": [],
   "source": [
    "# Load Extrovert/Introvert 1-6 into test data\n",
    "# Load Extrovert/Introvert 7-12 into validation data\n",
    "# Load Extrovert/Introvert 13-46 into train data\n",
    "\n",
    "inputs = []\n",
    "targets = []\n",
    "\n",
    "for i in range(1, 6):\n",
    "    motion_data = np.loadtxt(\"ExtrovertRawData/Motion/{0}.rov\".format(i), skiprows=17, usecols=range(0, 6))\n",
    "    time_intervals = np.loadtxt(\"ExtrovertRawData/Words/{0}\".format(i), usecols=range(4, 6), dtype=\"int\")\n",
    "    words = np.loadtxt(\"ExtrovertRawData/Words/{0}\".format(i), usecols=range(3, 4), dtype=\"string\")\n",
    "\n",
    "    for index, word in enumerate(words):\n",
    "        words[index] = word.lower()\n",
    "        \n",
    "    pre_process_data(inputs, targets, words, motion_data, time_intervals, twitter_table)"
   ]
  },
  {
   "cell_type": "code",
   "execution_count": 15,
   "metadata": {
    "collapsed": true
   },
   "outputs": [],
   "source": [
    "inputs_array = np.array(inputs)\n",
    "targets_array = np.array(targets)"
   ]
  },
  {
   "cell_type": "code",
   "execution_count": 16,
   "metadata": {
    "collapsed": true
   },
   "outputs": [],
   "source": [
    "np.savez('data/Twitter/test_extro.npz', inputs=inputs_array, targets=targets_array)"
   ]
  },
  {
   "cell_type": "code",
   "execution_count": 17,
   "metadata": {},
   "outputs": [
    {
     "name": "stdout",
     "output_type": "stream",
     "text": [
      "(15462, 6)\n",
      "(15462, 100)\n"
     ]
    }
   ],
   "source": [
    "trail_d = np.load('data/Twitter/test_extro.npz')\n",
    "print(trail_d['targets'].shape)\n",
    "print(trail_d['inputs'].shape)"
   ]
  },
  {
   "cell_type": "code",
   "execution_count": 23,
   "metadata": {},
   "outputs": [
    {
     "name": "stdout",
     "output_type": "stream",
     "text": [
      "Test case 1: input dim: (562, 2), target dim: (31467, 6)\n",
      "Input dim:  (13462, 100) Target dim:  (13462, 6)\n",
      "Test case 2: input dim: (719, 2), target dim: (31983, 6)\n",
      "Input dim:  (15557, 100) Target dim:  (15557, 6)\n",
      "Test case 3: input dim: (607, 2), target dim: (35331, 6)\n",
      "Input dim:  (15462, 100) Target dim:  (15462, 6)\n",
      "Test case 4: input dim: (806, 2), target dim: (30155, 6)\n",
      "Input dim:  (17944, 100) Target dim:  (17944, 6)\n",
      "Test case 5: input dim: (578, 2), target dim: (31798, 6)\n",
      "Input dim:  (14660, 100) Target dim:  (14660, 6)\n",
      "Test case 6: input dim: (938, 2), target dim: (34518, 6)\n",
      "Input dim:  (19162, 100) Target dim:  (19162, 6)\n"
     ]
    }
   ],
   "source": [
    "# Make 1-6 individual test data\n",
    "for i in range(1, 7):\n",
    "    inputs = []\n",
    "    targets = []\n",
    "    \n",
    "    motion_data = np.loadtxt(\"ExtrovertRawData/Motion/{0}.rov\".format(i), skiprows=17, usecols=range(0, 6))\n",
    "    time_intervals = np.loadtxt(\"ExtrovertRawData/Words/{0}\".format(i), usecols=range(4, 6), dtype=\"int\")\n",
    "    words = np.loadtxt(\"ExtrovertRawData/Words/{0}\".format(i), usecols=range(3, 4), dtype=\"string\")\n",
    "\n",
    "    print(\"Test case {0}: input dim: {1}, target dim: {2}\".format(i, time_intervals.shape, motion_data.shape))\n",
    "    \n",
    "    for index, word in enumerate(words):\n",
    "        words[index] = word.lower()\n",
    "        \n",
    "    pre_process_data(inputs, targets, words, motion_data, time_intervals, twitter_table)\n",
    "    inputs_array = np.array(inputs)\n",
    "    targets_array = np.array(targets)\n",
    "    np.savez('data/Twitter/test{0}_extro.npz'.format(i), inputs=inputs_array, targets=targets_array)\n",
    "    trail_d = np.load('data/Twitter/test{0}_extro.npz'.format(i))\n",
    "    print(\"Input dim: \", trail_d['inputs'].shape, \"Target dim: \", trail_d['targets'].shape)"
   ]
  },
  {
   "cell_type": "code",
   "execution_count": null,
   "metadata": {
    "collapsed": true
   },
   "outputs": [],
   "source": []
  }
 ],
 "metadata": {
  "anaconda-cloud": {},
  "kernelspec": {
   "display_name": "Python 3",
   "language": "python",
   "name": "python3"
  },
  "language_info": {
   "codemirror_mode": {
    "name": "ipython",
    "version": 3
   },
   "file_extension": ".py",
   "mimetype": "text/x-python",
   "name": "python",
   "nbconvert_exporter": "python",
   "pygments_lexer": "ipython3",
   "version": "3.6.2"
  }
 },
 "nbformat": 4,
 "nbformat_minor": 1
}
