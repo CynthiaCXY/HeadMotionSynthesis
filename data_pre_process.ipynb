{
 "cells": [
  {
   "cell_type": "markdown",
   "metadata": {},
   "source": [
    "# Pre-process raw data into .npz files"
   ]
  },
  {
   "cell_type": "code",
   "execution_count": 1,
   "metadata": {
    "collapsed": true
   },
   "outputs": [],
   "source": [
    "from __future__ import division, print_function # Makes division and printing work like python 3 (we're using 2)\n",
    "import os\n",
    "import numpy as np\n",
    "import pandas as pd\n",
    "from matplotlib import pyplot as plt\n",
    "import seaborn as sns\n",
    "from scipy.spatial import distance\n",
    "import csv\n",
    "%matplotlib inline\n",
    "from numpy import arange, sin, pi, cos\n",
    "from scipy.fftpack import fft, dct"
   ]
  },
  {
   "cell_type": "markdown",
   "metadata": {},
   "source": [
    "### Load pre-trained GloVe data (Twitter 100d) into a dictionary"
   ]
  },
  {
   "cell_type": "code",
   "execution_count": 2,
   "metadata": {
    "collapsed": true
   },
   "outputs": [],
   "source": [
    "twitter_words = np.loadtxt(\"GloVeTwitter27B/100d.txt\", usecols=range(0, 1), dtype = \"string\")\n",
    "\n",
    "twitter_vectors = np.loadtxt(\"GloVeTwitter27B/100d.txt\", usecols=range(1, 101), dtype = \"float\")\n",
    "\n",
    "twitter_table = {}\n",
    "for i in range(twitter_words.size):\n",
    "    twitter_table[twitter_words[i]] = twitter_vectors[i]"
   ]
  },
  {
   "cell_type": "code",
   "execution_count": 3,
   "metadata": {},
   "outputs": [
    {
     "data": {
      "text/plain": [
       "100"
      ]
     },
     "execution_count": 3,
     "metadata": {},
     "output_type": "execute_result"
    }
   ],
   "source": [
    "vector_dim = twitter_vectors.shape[1]\n",
    "vector_dim"
   ]
  },
  {
   "cell_type": "markdown",
   "metadata": {},
   "source": [
    "### Load pre-trained GloVe data (Wiki&Gigaword 100d) into a dictionary"
   ]
  },
  {
   "cell_type": "code",
   "execution_count": 33,
   "metadata": {
    "collapsed": true
   },
   "outputs": [],
   "source": [
    "# wiki_words = np.loadtxt(\"GloVeWiki6B/100d.txt\", usecols=range(0, 1), dtype = \"string\")\n",
    "\n",
    "# wiki_vectors = np.loadtxt(\"GloVeWiki6B/100d.txt\", usecols=range(90, 101), dtype = \"float\")\n",
    "\n",
    "# wiki_table = {}\n",
    "# print(wiki_words.size)\n",
    "# for i in range(wiki_words.size):\n",
    "#     wiki_table[wiki_words[i]] = wiki_vectors[i]"
   ]
  },
  {
   "cell_type": "code",
   "execution_count": 37,
   "metadata": {},
   "outputs": [],
   "source": [
    "# test cell\n",
    "\n",
    "# i = 500\n",
    "# col = 1\n",
    "\n",
    "# m = motion_data[0:i, col:col+1].reshape(i)\n",
    "# tm = dct(m, norm=\"ortho\")\n",
    "\n",
    "# extracted = np.zeros(i)\n",
    "# extracted[0:10] = tm[0:10]\n",
    "# rev = dct(extracted, 3, norm=\"ortho\")\n",
    "\n",
    "# f, (ax1, ax2, ax3) = plt.subplots(1, 3, figsize = (20, 4))\n",
    "# ax1.plot(m)\n",
    "# ax2.plot(tm)\n",
    "# ax3.plot(rev)\n",
    "# ax1.set_title(\"Data of {0} frames of one dimension in head motion data\".format(i))\n",
    "# ax2.set_title(\"After Discrete Cosine Transformation\")\n",
    "# ax3.set_title(\"Transform back to motion data, \\n using first 10 frequecies\")\n",
    "# plt.show()"
   ]
  },
  {
   "cell_type": "code",
   "execution_count": 7,
   "metadata": {
    "collapsed": true
   },
   "outputs": [],
   "source": [
    "def cdt_motion(motion_data, start_time, window_size):\n",
    "    output = np.zeros((motion_data.shape[1],10))\n",
    "\n",
    "    for i in range(motion_data.shape[1]):\n",
    "        motion_file_length = motion_data.shape[0]\n",
    "        # In case the availble length of motion is not as long as window_size, e.g. at the end of a motion file\n",
    "        end_time = min(motion_file_length, start_time + window_size)        \n",
    "        temp = motion_data[start_time:end_time, i:i+1]\n",
    "        temp = temp.reshape(len(temp))\n",
    "        motion = np.zeros(window_size)\n",
    "        motion[0:len(temp)] = temp\n",
    "        output[i] = dct(motion, norm=\"ortho\")[:10]\n",
    "    return output.reshape(60)"
   ]
  },
  {
   "cell_type": "code",
   "execution_count": 8,
   "metadata": {
    "collapsed": true
   },
   "outputs": [],
   "source": [
    "def pre_process_data(inputs, targets, words, motion_data, time_intervals, check_table, window_size):\n",
    "\n",
    "    for index, word in enumerate(words):\n",
    "        start_time = time_intervals[index][0]\n",
    "        end_time = start_time + window_size\n",
    "        \n",
    "        word_split = word.split('\\'')\n",
    "        \n",
    "        if len(word_split) <= 1:\n",
    "            transed_motion = cdt_motion(motion_data, start_time, window_size)\n",
    "            targets.append(transed_motion)\n",
    "            \n",
    "            if word in check_table:\n",
    "                inputs.append(check_table[word])\n",
    "            else:\n",
    "                inputs.append(np.zeros(vector_dim))\n",
    "        else:   \n",
    "            word_split[1] = '\\'' + word_split[1]\n",
    "            mid = int((start_time + end_time) / 2)\n",
    "            \n",
    "            transed_motion_1 = cdt_motion(motion_data, start_time, window_size)\n",
    "            targets.append(transed_motion_1)            \n",
    "            \n",
    "            transed_motion_2 = cdt_motion(motion_data, mid, window_size)\n",
    "            targets.append(transed_motion_2)            \n",
    "            \n",
    "            if word_split[0] in check_table:\n",
    "                inputs.append(check_table[word_split[0]])\n",
    "                if word_split[1] in check_table:\n",
    "                    inputs.append(check_table[word_split[1]])\n",
    "                else:\n",
    "                    inputs.append(np.zeros(vector_dim))\n",
    "            else:\n",
    "                inputs.append(np.zeros(vector_dim))\n",
    "                if word_split[1] in check_table:\n",
    "                    inputs.append(check_table[word_split[1]])\n",
    "                else:\n",
    "                    inputs.append(np.zeros(vector_dim))"
   ]
  },
  {
   "cell_type": "markdown",
   "metadata": {},
   "source": [
    "## Load Extrovert data into .npz files"
   ]
  },
  {
   "cell_type": "code",
   "execution_count": 14,
   "metadata": {
    "collapsed": true
   },
   "outputs": [],
   "source": [
    "# validation_extro.npz 7-12\n",
    "# train_extro.npz 13-46\n",
    "\n",
    "inputs = []\n",
    "targets = []\n",
    "window_size = 100\n",
    "\n",
    "for i in range(13, 47):\n",
    "    motion_data = np.loadtxt(\"ExtrovertRawData/Motion/{0}.rov\".format(i), skiprows=17, usecols=range(0, 6))\n",
    "    time_intervals = np.loadtxt(\"ExtrovertRawData/Words/{0}\".format(i), usecols=range(4, 6), dtype=\"int\")\n",
    "    words = np.loadtxt(\"ExtrovertRawData/Words/{0}\".format(i), usecols=range(3, 4), dtype=\"string\")\n",
    "\n",
    "    for index, word in enumerate(words):\n",
    "        words[index] = word.lower()\n",
    "        \n",
    "    pre_process_data(inputs, targets, words, motion_data, time_intervals, twitter_table, window_size)\n",
    "    \n",
    "inputs_array = np.array(inputs)\n",
    "targets_array = np.array(targets)\n",
    "np.savez('data/Baseline_DCT/train_extro.npz', inputs=inputs_array, targets=targets_array)"
   ]
  },
  {
   "cell_type": "code",
   "execution_count": 19,
   "metadata": {},
   "outputs": [
    {
     "name": "stdout",
     "output_type": "stream",
     "text": [
      "Test case 1: input dim: (562, 2), target dim: (31467, 6)\n",
      "Input dim:  (597, 100) Target dim:  (597, 60)\n",
      "Test case 2: input dim: (719, 2), target dim: (31983, 6)\n",
      "Input dim:  (768, 100) Target dim:  (768, 60)\n",
      "Test case 3: input dim: (607, 2), target dim: (35331, 6)\n",
      "Input dim:  (655, 100) Target dim:  (655, 60)\n",
      "Test case 4: input dim: (806, 2), target dim: (30155, 6)\n",
      "Input dim:  (861, 100) Target dim:  (861, 60)\n",
      "Test case 5: input dim: (578, 2), target dim: (31798, 6)\n",
      "Input dim:  (624, 100) Target dim:  (624, 60)\n",
      "Test case 6: input dim: (938, 2), target dim: (34518, 6)\n",
      "Input dim:  (1037, 100) Target dim:  (1037, 60)\n"
     ]
    }
   ],
   "source": [
    "# test{0}_extro.format(1~6)\n",
    "for i in range(1, 7):\n",
    "    inputs = []\n",
    "    targets = []\n",
    "    window_size = 100\n",
    "    \n",
    "    motion_data = np.loadtxt(\"ExtrovertRawData/Motion/{0}.rov\".format(i), skiprows=17, usecols=range(0, 6))\n",
    "    time_intervals = np.loadtxt(\"ExtrovertRawData/Words/{0}\".format(i), usecols=range(4, 6), dtype=\"int\")\n",
    "    words = np.loadtxt(\"ExtrovertRawData/Words/{0}\".format(i), usecols=range(3, 4), dtype=\"string\")\n",
    "\n",
    "    print(\"Test case {0}: input dim: {1}, target dim: {2}\".format(i, time_intervals.shape, motion_data.shape))\n",
    "    \n",
    "    for index, word in enumerate(words):\n",
    "        words[index] = word.lower()\n",
    "        \n",
    "    pre_process_data(inputs, targets, words, motion_data, time_intervals, twitter_table, window_size)\n",
    "    inputs_array = np.array(inputs)\n",
    "    targets_array = np.array(targets)\n",
    "    np.savez('data/Baseline_DCT/test{0}_extro.npz'.format(i), inputs=inputs_array, targets=targets_array)\n",
    "    trail_d = np.load('data/Baseline_DCT/test{0}_extro.npz'.format(i))\n",
    "    print(\"Input dim: \", trail_d['inputs'].shape, \"Target dim: \", trail_d['targets'].shape)"
   ]
  },
  {
   "cell_type": "markdown",
   "metadata": {},
   "source": [
    "## Load Introvert data into .npz files"
   ]
  },
  {
   "cell_type": "code",
   "execution_count": 22,
   "metadata": {
    "collapsed": true
   },
   "outputs": [],
   "source": [
    "# validation_intro.npz 7-12\n",
    "# train_intro.npz 13-49\n",
    "\n",
    "inputs = []\n",
    "targets = []\n",
    "window_size = 100\n",
    "\n",
    "for i in range(7, 13):\n",
    "    motion_data = np.loadtxt(\"IntrovertRawData/Motion/{0}.rov\".format(i), skiprows=17, usecols=range(0, 6))\n",
    "    time_intervals = np.loadtxt(\"IntrovertRawData/Words/{0}\".format(i), usecols=range(4, 6), dtype=\"int\")\n",
    "    words = np.loadtxt(\"IntrovertRawData/Words/{0}\".format(i), usecols=range(3, 4), dtype=\"string\")\n",
    "\n",
    "    for index, word in enumerate(words):\n",
    "        words[index] = word.lower()\n",
    "        \n",
    "    pre_process_data(inputs, targets, words, motion_data, time_intervals, twitter_table, window_size)\n",
    "    \n",
    "inputs_array = np.array(inputs)\n",
    "targets_array = np.array(targets)\n",
    "np.savez('data/Baseline_DCT/validation_intro.npz', inputs=inputs_array, targets=targets_array)"
   ]
  },
  {
   "cell_type": "code",
   "execution_count": 23,
   "metadata": {},
   "outputs": [
    {
     "name": "stdout",
     "output_type": "stream",
     "text": [
      "Test case 1: input dim: (400, 2), target dim: (31401, 6)\n",
      "Input dim:  (429, 100) Target dim:  (429, 60)\n",
      "Test case 2: input dim: (539, 2), target dim: (30995, 6)\n",
      "Input dim:  (559, 100) Target dim:  (559, 60)\n",
      "Test case 3: input dim: (490, 2), target dim: (30355, 6)\n",
      "Input dim:  (530, 100) Target dim:  (530, 60)\n",
      "Test case 4: input dim: (509, 2), target dim: (30421, 6)\n",
      "Input dim:  (541, 100) Target dim:  (541, 60)\n",
      "Test case 5: input dim: (490, 2), target dim: (30893, 6)\n",
      "Input dim:  (533, 100) Target dim:  (533, 60)\n",
      "Test case 6: input dim: (539, 2), target dim: (32054, 6)\n",
      "Input dim:  (570, 100) Target dim:  (570, 60)\n"
     ]
    }
   ],
   "source": [
    "# test{0}_intro.format(1~6)\n",
    "for i in range(1, 7):\n",
    "    inputs = []\n",
    "    targets = []\n",
    "    window_size = 100\n",
    "    \n",
    "    motion_data = np.loadtxt(\"IntrovertRawData/Motion/{0}.rov\".format(i), skiprows=17, usecols=range(0, 6))\n",
    "    time_intervals = np.loadtxt(\"IntrovertRawData/Words/{0}\".format(i), usecols=range(4, 6), dtype=\"int\")\n",
    "    words = np.loadtxt(\"IntrovertRawData/Words/{0}\".format(i), usecols=range(3, 4), dtype=\"string\")\n",
    "\n",
    "    print(\"Test case {0}: input dim: {1}, target dim: {2}\".format(i, time_intervals.shape, motion_data.shape))\n",
    "    \n",
    "    for index, word in enumerate(words):\n",
    "        words[index] = word.lower()\n",
    "        \n",
    "    pre_process_data(inputs, targets, words, motion_data, time_intervals, twitter_table, window_size)\n",
    "    inputs_array = np.array(inputs)\n",
    "    targets_array = np.array(targets)\n",
    "    np.savez('data/Baseline_DCT/test{0}_intro.npz'.format(i), inputs=inputs_array, targets=targets_array)\n",
    "    trail_d = np.load('data/Baseline_DCT/test{0}_intro.npz'.format(i))\n",
    "    print(\"Input dim: \", trail_d['inputs'].shape, \"Target dim: \", trail_d['targets'].shape)"
   ]
  }
 ],
 "metadata": {
  "anaconda-cloud": {},
  "kernelspec": {
   "display_name": "Python 2",
   "language": "python",
   "name": "python2"
  },
  "language_info": {
   "codemirror_mode": {
    "name": "ipython",
    "version": 2
   },
   "file_extension": ".py",
   "mimetype": "text/x-python",
   "name": "python",
   "nbconvert_exporter": "python",
   "pygments_lexer": "ipython2",
   "version": "2.7.13"
  }
 },
 "nbformat": 4,
 "nbformat_minor": 1
}
