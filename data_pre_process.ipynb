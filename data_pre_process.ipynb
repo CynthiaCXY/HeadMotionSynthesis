{
 "cells": [
  {
   "cell_type": "markdown",
   "metadata": {},
   "source": [
    "# Pre-process raw data into .npz files"
   ]
  },
  {
   "cell_type": "code",
   "execution_count": 1,
   "metadata": {
    "collapsed": true
   },
   "outputs": [],
   "source": [
    "from __future__ import division, print_function\n",
    "import os\n",
    "import numpy as np\n",
    "import pandas as pd\n",
    "from matplotlib import pyplot as plt\n",
    "import seaborn as sns\n",
    "from scipy.spatial import distance\n",
    "import csv\n",
    "%matplotlib inline\n",
    "from numpy import arange, sin, pi, cos\n",
    "from scipy.fftpack import fft, dct"
   ]
  },
  {
   "cell_type": "markdown",
   "metadata": {},
   "source": [
    "### Load pre-trained GloVe data (Twitter 100d) into a dictionary"
   ]
  },
  {
   "cell_type": "code",
   "execution_count": null,
   "metadata": {
    "collapsed": true
   },
   "outputs": [],
   "source": [
    "twitter_words = np.loadtxt(\"GloVeTwitter27B/100d.txt\", usecols=range(0, 1), dtype = \"str\")\n",
    "\n",
    "twitter_vectors = np.loadtxt(\"GloVeTwitter27B/100d.txt\", usecols=range(1, 101), dtype = \"float\")\n",
    "\n",
    "twitter_table = {}\n",
    "for i in range(twitter_words.size):\n",
    "    twitter_table[twitter_words[i]] = twitter_vectors[i]"
   ]
  },
  {
   "cell_type": "code",
   "execution_count": null,
   "metadata": {},
   "outputs": [],
   "source": [
    "vector_dim = twitter_vectors.shape[1]\n",
    "vector_dim"
   ]
  },
  {
   "cell_type": "markdown",
   "metadata": {},
   "source": [
    "### Load pre-trained GloVe data (Wiki&Gigaword 100d) into a dictionary"
   ]
  },
  {
   "cell_type": "code",
   "execution_count": null,
   "metadata": {},
   "outputs": [],
   "source": [
    "wiki_words = np.loadtxt(\"GloVeWiki6B/100d.txt\", usecols=range(0, 1), dtype = \"str\")\n",
    "\n",
    "wiki_vectors = np.loadtxt(\"GloVeWiki6B/100d.txt\", usecols=range(1, 101), dtype = \"float\")\n",
    "\n",
    "wiki_table = {}\n",
    "print(wiki_words.size)\n",
    "for i in range(wiki_words.size):\n",
    "    wiki_table[wiki_words[i]] = wiki_vectors[i]"
   ]
  },
  {
   "cell_type": "code",
   "execution_count": null,
   "metadata": {},
   "outputs": [],
   "source": [
    "vector_dim = wiki_vectors.shape[1]\n",
    "vector_dim"
   ]
  },
  {
   "cell_type": "markdown",
   "metadata": {},
   "source": [
    "### Load recorded raw word transcriptions + head motion data"
   ]
  },
  {
   "cell_type": "code",
   "execution_count": null,
   "metadata": {
    "collapsed": true
   },
   "outputs": [],
   "source": [
    "def pre_process_data(inputs, targets, words, motion_data, time_intervals, check_table):\n",
    "\n",
    "    for index, word in enumerate(words):\n",
    "        start_time = time_intervals[index][0]\n",
    "        end_time = time_intervals[index][1]\n",
    "\n",
    "        for t in range(start_time, end_time):\n",
    "            targets.append(motion_data[t])\n",
    "\n",
    "        if word in check_table:\n",
    "            for t in range(start_time, end_time):\n",
    "                inputs.append(check_table[word])\n",
    "        else:\n",
    "            #print(word)\n",
    "            word_split = word.split('\\'')\n",
    "            if len(word_split) <= 1:\n",
    "                for t in range(start_time, end_time):\n",
    "                    # treat unknown words as 0 vectors\n",
    "                    inputs.append(np.zeros(vector_dim))\n",
    "            else:\n",
    "                word_split[1] = '\\'' + word_split[1]\n",
    "                mid = int((start_time + end_time) / 2)\n",
    "                if word_split[0] in check_table:\n",
    "                    for t in range(start_time, mid):\n",
    "                        inputs.append(check_table[word_split[0]])\n",
    "                    if word_split[1] in check_table:\n",
    "                        for t in range(mid, end_time):\n",
    "                            inputs.append(check_table[word_split[1]])\n",
    "                    else:\n",
    "                        for t in range(mid, end_time):\n",
    "                            inputs.append(np.zeros(vector_dim))\n",
    "                else:\n",
    "                    for t in range(start_time, mid):\n",
    "                        inputs.append(np.zeros(vector_dim))\n",
    "                    if word_split[1] in check_table:\n",
    "                        for t in range(mid, end_time):\n",
    "                            inputs.append(check_table[word_split[1]])\n",
    "                    else:\n",
    "                        for t in range(mid, end_time):\n",
    "                            inputs.append(np.zeros(vector_dim))"
   ]
  },
  {
   "cell_type": "code",
   "execution_count": null,
   "metadata": {
    "collapsed": true
   },
   "outputs": [],
   "source": [
    "# Load Extrovert/Introvert 1-6 into test data\n",
    "# Load Extrovert/Introvert 7-12 into validation data\n",
    "# Load Extrovert/Introvert 13-46 into train data\n",
    "\n",
    "inputs = []\n",
    "targets = []\n",
    "\n",
    "for i in range(7, 13):\n",
    "    motion_data = np.loadtxt(\"ExtrovertRawData/Motion/{0}.rov\".format(i), skiprows=17, usecols=range(0, 6))\n",
    "    time_intervals = np.loadtxt(\"ExtrovertRawData/Words/{0}\".format(i), usecols=range(4, 6), dtype=\"int\")\n",
    "    words = np.loadtxt(\"ExtrovertRawData/Words/{0}\".format(i), usecols=range(3, 4), dtype=\"string\")\n",
    "\n",
    "    for index, word in enumerate(words):\n",
    "        words[index] = word.lower()\n",
    "        \n",
    "    pre_process_data(inputs, targets, words, motion_data, time_intervals, twitter_table)"
   ]
  },
  {
   "cell_type": "code",
   "execution_count": null,
   "metadata": {
    "collapsed": true
   },
   "outputs": [],
   "source": [
    "inputs_array = np.array(inputs)\n",
    "targets_array = np.array(targets)"
   ]
  },
  {
   "cell_type": "code",
   "execution_count": null,
   "metadata": {
    "collapsed": true
   },
   "outputs": [],
   "source": [
    "np.savez('data/Twitter/validation_extro.npz', inputs=inputs_array, targets=targets_array)"
   ]
  },
  {
   "cell_type": "code",
   "execution_count": null,
   "metadata": {},
   "outputs": [],
   "source": [
    "trail_d = np.load('data/Twitter/validation_extro.npz')\n",
    "print(trail_d['targets'].shape)\n",
    "print(trail_d['inputs'].shape)"
   ]
  },
  {
   "cell_type": "code",
   "execution_count": null,
   "metadata": {},
   "outputs": [],
   "source": [
    "# Make 1-6 individual validation data\n",
    "for i in range(7, 13):\n",
    "    inputs = []\n",
    "    targets = []\n",
    "    \n",
    "    motion_data = np.loadtxt(\"ExtrovertRawData/Motion/{0}.rov\".format(i), skiprows=17, usecols=range(0, 6))\n",
    "    time_intervals = np.loadtxt(\"ExtrovertRawData/Words/{0}\".format(i), usecols=range(4, 6), dtype=\"int\")\n",
    "    words = np.loadtxt(\"ExtrovertRawData/Words/{0}\".format(i), usecols=range(3, 4), dtype=\"string\")\n",
    "\n",
    "    print(\"Test case {0}: input dim: {1}, target dim: {2}\".format(i, time_intervals.shape, motion_data.shape))\n",
    "    \n",
    "    for index, word in enumerate(words):\n",
    "        words[index] = word.lower()\n",
    "        \n",
    "    pre_process_data(inputs, targets, words, motion_data, time_intervals, twitter_table)\n",
    "    inputs_array = np.array(inputs)\n",
    "    targets_array = np.array(targets)\n",
    "    np.savez('data/Twitter/validation{0}_extro.npz'.format(i), inputs=inputs_array, targets=targets_array)\n",
    "    trail_d = np.load('data/Twitter/validation{0}_extro.npz'.format(i))\n",
    "    print(\"Input dim: \", trail_d['inputs'].shape, \"Target dim: \", trail_d['targets'].shape)"
   ]
  },
  {
   "cell_type": "code",
   "execution_count": null,
   "metadata": {},
   "outputs": [],
   "source": [
    "# Make 1-6 individual validation data\n",
    "for i in range(7, 13):\n",
    "    inputs = []\n",
    "    targets = []\n",
    "    \n",
    "    motion_data = np.loadtxt(\"IntrovertRawData/Motion/{0}.rov\".format(i), skiprows=17, usecols=range(0, 6))\n",
    "    time_intervals = np.loadtxt(\"IntrovertRawData/Words/{0}\".format(i), usecols=range(4, 6), dtype=\"int\")\n",
    "    words = np.loadtxt(\"IntrovertRawData/Words/{0}\".format(i), usecols=range(3, 4), dtype=\"string\")\n",
    "\n",
    "    print(\"Test case {0}: input dim: {1}, target dim: {2}\".format(i, time_intervals.shape, motion_data.shape))\n",
    "    \n",
    "    for index, word in enumerate(words):\n",
    "        words[index] = word.lower()\n",
    "        \n",
    "    pre_process_data(inputs, targets, words, motion_data, time_intervals, wiki_table)\n",
    "    inputs_array = np.array(inputs)\n",
    "    targets_array = np.array(targets)\n",
    "    np.savez('data/Wiki/validation{0}_intro.npz'.format(i), inputs=inputs_array, targets=targets_array)\n",
    "    trail_d = np.load('data/Wiki/validation{0}_intro.npz'.format(i))\n",
    "    print(\"Input dim: \", trail_d['inputs'].shape, \"Target dim: \", trail_d['targets'].shape)"
   ]
  },
  {
   "cell_type": "code",
   "execution_count": null,
   "metadata": {},
   "outputs": [],
   "source": [
    "# Make 1-6 individual test data\n",
    "for i in range(1, 7):\n",
    "    inputs = []\n",
    "    targets = []\n",
    "    \n",
    "    motion_data = np.loadtxt(\"ExtrovertRawData/Motion/{0}.rov\".format(i), skiprows=17, usecols=range(0, 6))\n",
    "    time_intervals = np.loadtxt(\"ExtrovertRawData/Words/{0}\".format(i), usecols=range(4, 6), dtype=\"int\")\n",
    "    words = np.loadtxt(\"ExtrovertRawData/Words/{0}\".format(i), usecols=range(3, 4), dtype=\"string\")\n",
    "\n",
    "    print(\"Test case {0}: input dim: {1}, target dim: {2}\".format(i, time_intervals.shape, motion_data.shape))\n",
    "    \n",
    "    for index, word in enumerate(words):\n",
    "        words[index] = word.lower()\n",
    "        \n",
    "    pre_process_data(inputs, targets, words, motion_data, time_intervals, twitter_table)\n",
    "    inputs_array = np.array(inputs)\n",
    "    targets_array = np.array(targets)\n",
    "    np.savez('data/Twitter/test{0}_extro.npz'.format(i), inputs=inputs_array, targets=targets_array)\n",
    "    trail_d = np.load('data/Twitter/test{0}_extro.npz'.format(i))\n",
    "    print(\"Input dim: \", trail_d['inputs'].shape, \"Target dim: \", trail_d['targets'].shape)"
   ]
  },
  {
   "cell_type": "markdown",
   "metadata": {
    "collapsed": true
   },
   "source": [
    "## Create 300d inputs, using [x_i-10, x_i, x_i+10]"
   ]
  },
  {
   "cell_type": "code",
   "execution_count": null,
   "metadata": {
    "collapsed": true
   },
   "outputs": [],
   "source": [
    "from __future__ import division, print_function\n",
    "import os\n",
    "import numpy as np\n",
    "import pandas as pd\n",
    "from matplotlib import pyplot as plt\n",
    "import seaborn as sns\n",
    "from scipy.spatial import distance\n",
    "import csv\n",
    "%matplotlib inline\n",
    "from numpy import arange, sin, pi, cos\n",
    "from scipy.fftpack import fft, dct"
   ]
  },
  {
   "cell_type": "code",
   "execution_count": null,
   "metadata": {
    "collapsed": true
   },
   "outputs": [],
   "source": [
    "train_100d = np.load('data/Wiki/train_extro.npz')\n",
    "\n",
    "length_of_inputs = train_100d['inputs'].shape[0]\n",
    "inputs_with_padding = np.zeros((train_100d['inputs'].shape[0]+20, train_100d['inputs'].shape[1]))\n",
    "\n",
    "inputs_with_padding[10:-10,:] = train_100d['inputs']\n",
    "\n",
    "inputs_300d = np.zeros((length_of_inputs, 300))\n",
    "\n",
    "inputs_300d[:,0:100] = inputs_with_padding[:-20,:]\n",
    "inputs_300d[:,100:200] = inputs_with_padding[10:-10,:]\n",
    "inputs_300d[:,200:300] = inputs_with_padding[20:,:]\n",
    "\n",
    "np.savez('data/Wiki/train_300d_skip{}_extro.npz'.format(10), inputs=inputs_300d, targets=train_100d['targets'])"
   ]
  },
  {
   "cell_type": "code",
   "execution_count": null,
   "metadata": {
    "collapsed": true
   },
   "outputs": [],
   "source": [
    "validation_100d = np.load('data/Wiki/validation_extro.npz')\n",
    "\n",
    "length_of_inputs = validation_100d['inputs'].shape[0]\n",
    "inputs_with_padding = np.zeros((validation_100d['inputs'].shape[0]+20, validation_100d['inputs'].shape[1]))\n",
    "\n",
    "inputs_with_padding[10:-10,:] = validation_100d['inputs']\n",
    "\n",
    "inputs_300d = np.zeros((length_of_inputs, 300))\n",
    "\n",
    "inputs_300d[:,0:100] = inputs_with_padding[:-20,:]\n",
    "inputs_300d[:,100:200] = inputs_with_padding[10:-10,:]\n",
    "inputs_300d[:,200:300] = inputs_with_padding[20:,:]\n",
    "\n",
    "np.savez('data/Wiki/validation_300d_skip{}_extro.npz'.format(10), inputs=inputs_300d, targets=validation_100d['targets'])"
   ]
  },
  {
   "cell_type": "code",
   "execution_count": null,
   "metadata": {
    "collapsed": true
   },
   "outputs": [],
   "source": [
    "for i in range(1,7):\n",
    "    test_100d = np.load('data/Wiki/test{}_extro.npz'.format(i))\n",
    "\n",
    "    length_of_inputs = test_100d['inputs'].shape[0]\n",
    "    inputs_with_padding = np.zeros((test_100d['inputs'].shape[0]+20, test_100d['inputs'].shape[1]))\n",
    "\n",
    "    inputs_with_padding[10:-10,:] = test_100d['inputs']\n",
    "\n",
    "    inputs_300d = np.zeros((length_of_inputs, 300))\n",
    "\n",
    "    inputs_300d[:,0:100] = inputs_with_padding[:-20,:]\n",
    "    inputs_300d[:,100:200] = inputs_with_padding[10:-10,:]\n",
    "    inputs_300d[:,200:300] = inputs_with_padding[20:,:]\n",
    "\n",
    "    np.savez('data/Wiki/test{0}_300d_skip{1}_extro.npz'.format(i, 10), inputs=inputs_300d, targets=test_100d['targets'])"
   ]
  },
  {
   "cell_type": "code",
   "execution_count": null,
   "metadata": {},
   "outputs": [],
   "source": [
    "for i in range(7,13):\n",
    "    validation_100d = np.load('data/Wiki/validation{}_extro.npz'.format(i))\n",
    "\n",
    "    length_of_inputs = validation_100d['inputs'].shape[0]\n",
    "    inputs_with_padding = np.zeros((validation_100d['inputs'].shape[0]+20, validation_100d['inputs'].shape[1]))\n",
    "\n",
    "    inputs_with_padding[10:-10,:] = validation_100d['inputs']\n",
    "\n",
    "    inputs_300d = np.zeros((length_of_inputs, 300))\n",
    "\n",
    "    inputs_300d[:,0:100] = inputs_with_padding[:-20,:]\n",
    "    inputs_300d[:,100:200] = inputs_with_padding[10:-10,:]\n",
    "    inputs_300d[:,200:300] = inputs_with_padding[20:,:]\n",
    "\n",
    "    np.savez('data/Wiki/validation{0}_300d_skip{1}_extro.npz'.format(i, 10), inputs=inputs_300d, targets=validation_100d['targets'])"
   ]
  },
  {
   "cell_type": "code",
   "execution_count": null,
   "metadata": {
    "collapsed": true
   },
   "outputs": [],
   "source": [
    "# intro data:\n",
    "\n",
    "train_100d = np.load('data/Wiki/train_intro.npz')\n",
    "\n",
    "length_of_inputs = train_100d['inputs'].shape[0]\n",
    "inputs_with_padding = np.zeros((train_100d['inputs'].shape[0]+20, train_100d['inputs'].shape[1]))\n",
    "\n",
    "inputs_with_padding[10:-10,:] = train_100d['inputs']\n",
    "\n",
    "inputs_300d = np.zeros((length_of_inputs, 300))\n",
    "\n",
    "inputs_300d[:,0:100] = inputs_with_padding[:-20,:]\n",
    "inputs_300d[:,100:200] = inputs_with_padding[10:-10,:]\n",
    "inputs_300d[:,200:300] = inputs_with_padding[20:,:]\n",
    "\n",
    "np.savez('data/Wiki/train_300d_skip{}_intro.npz'.format(10), inputs=inputs_300d, targets=train_100d['targets'])\n",
    "\n",
    "\n",
    "validation_100d = np.load('data/Wiki/validation_intro.npz')\n",
    "\n",
    "length_of_inputs = validation_100d['inputs'].shape[0]\n",
    "inputs_with_padding = np.zeros((validation_100d['inputs'].shape[0]+20, validation_100d['inputs'].shape[1]))\n",
    "\n",
    "inputs_with_padding[10:-10,:] = validation_100d['inputs']\n",
    "\n",
    "inputs_300d = np.zeros((length_of_inputs, 300))\n",
    "\n",
    "inputs_300d[:,0:100] = inputs_with_padding[:-20,:]\n",
    "inputs_300d[:,100:200] = inputs_with_padding[10:-10,:]\n",
    "inputs_300d[:,200:300] = inputs_with_padding[20:,:]\n",
    "\n",
    "np.savez('data/Wiki/validation_300d_skip{}_intro.npz'.format(10), inputs=inputs_300d, targets=validation_100d['targets'])\n",
    "\n",
    "for i in range(1,7):\n",
    "    test_100d = np.load('data/Wiki/test{}_intro.npz'.format(i))\n",
    "\n",
    "    length_of_inputs = test_100d['inputs'].shape[0]\n",
    "    inputs_with_padding = np.zeros((test_100d['inputs'].shape[0]+20, test_100d['inputs'].shape[1]))\n",
    "\n",
    "    inputs_with_padding[10:-10,:] = test_100d['inputs']\n",
    "\n",
    "    inputs_300d = np.zeros((length_of_inputs, 300))\n",
    "\n",
    "    inputs_300d[:,0:100] = inputs_with_padding[:-20,:]\n",
    "    inputs_300d[:,100:200] = inputs_with_padding[10:-10,:]\n",
    "    inputs_300d[:,200:300] = inputs_with_padding[20:,:]\n",
    "\n",
    "    np.savez('data/Wiki/test{0}_300d_skip{1}_intro.npz'.format(i, 10), inputs=inputs_300d, targets=test_100d['targets'])"
   ]
  },
  {
   "cell_type": "code",
   "execution_count": 2,
   "metadata": {
    "collapsed": true
   },
   "outputs": [],
   "source": [
    "for i in range(7,13):\n",
    "    validation_100d = np.load('data/Wiki/validation{}_intro.npz'.format(i))\n",
    "\n",
    "    length_of_inputs = validation_100d['inputs'].shape[0]\n",
    "    inputs_with_padding = np.zeros((validation_100d['inputs'].shape[0]+20, validation_100d['inputs'].shape[1]))\n",
    "\n",
    "    inputs_with_padding[10:-10,:] = validation_100d['inputs']\n",
    "\n",
    "    inputs_300d = np.zeros((length_of_inputs, 300))\n",
    "\n",
    "    inputs_300d[:,0:100] = inputs_with_padding[:-20,:]\n",
    "    inputs_300d[:,100:200] = inputs_with_padding[10:-10,:]\n",
    "    inputs_300d[:,200:300] = inputs_with_padding[20:,:]\n",
    "\n",
    "    np.savez('data/Wiki/validation{0}_300d_skip{1}_intro.npz'.format(i, 10), inputs=inputs_300d, targets=validation_100d['targets'])"
   ]
  },
  {
   "cell_type": "code",
   "execution_count": null,
   "metadata": {
    "collapsed": true
   },
   "outputs": [],
   "source": []
  },
  {
   "cell_type": "code",
   "execution_count": null,
   "metadata": {
    "collapsed": true
   },
   "outputs": [],
   "source": []
  }
 ],
 "metadata": {
  "anaconda-cloud": {},
  "kernelspec": {
   "display_name": "Python 2",
   "language": "python",
   "name": "python2"
  },
  "language_info": {
   "codemirror_mode": {
    "name": "ipython",
    "version": 2
   },
   "file_extension": ".py",
   "mimetype": "text/x-python",
   "name": "python",
   "nbconvert_exporter": "python",
   "pygments_lexer": "ipython2",
   "version": "2.7.13"
  }
 },
 "nbformat": 4,
 "nbformat_minor": 1
}
